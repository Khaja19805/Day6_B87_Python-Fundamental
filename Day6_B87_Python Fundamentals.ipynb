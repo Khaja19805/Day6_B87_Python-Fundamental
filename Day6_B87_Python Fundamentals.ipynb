{
 "cells": [
  {
   "cell_type": "code",
   "execution_count": 1,
   "id": "ecce6d67-2bca-40e9-90b1-1e37ea799582",
   "metadata": {},
   "outputs": [],
   "source": [
    "#req: i want to design a alien game..."
   ]
  },
  {
   "cell_type": "code",
   "execution_count": 2,
   "id": "feda2662-dce7-49d3-9b0b-029e17ca5d39",
   "metadata": {},
   "outputs": [],
   "source": [
    "alien = {'color':'green', 'points':5}"
   ]
  },
  {
   "cell_type": "code",
   "execution_count": 3,
   "id": "c14cc5b0-4883-43ec-81f2-efc6f6b12b13",
   "metadata": {},
   "outputs": [
    {
     "data": {
      "text/plain": [
       "dict"
      ]
     },
     "execution_count": 3,
     "metadata": {},
     "output_type": "execute_result"
    }
   ],
   "source": [
    "type(alien)"
   ]
  },
  {
   "cell_type": "code",
   "execution_count": 4,
   "id": "493b42af-2fc8-4fbe-bfd7-636101299e9f",
   "metadata": {},
   "outputs": [],
   "source": [
    "#dictionary is written as dict.."
   ]
  },
  {
   "cell_type": "code",
   "execution_count": 5,
   "id": "448de235-3da3-423a-b250-755002acda0a",
   "metadata": {},
   "outputs": [],
   "source": [
    "#req: i want to add the start_position of the alien.."
   ]
  },
  {
   "cell_type": "code",
   "execution_count": 6,
   "id": "e5e15729-0b67-4f04-8be0-e5ee559c4ff8",
   "metadata": {},
   "outputs": [],
   "source": [
    "alien[\"start_position\"] = \"level1\""
   ]
  },
  {
   "cell_type": "code",
   "execution_count": 7,
   "id": "f394c498-bb76-4b78-8014-b41c4f12f95a",
   "metadata": {},
   "outputs": [
    {
     "name": "stdout",
     "output_type": "stream",
     "text": [
      "{'color': 'green', 'points': 5, 'start_position': 'level1'}\n"
     ]
    }
   ],
   "source": [
    "print(alien)"
   ]
  },
  {
   "cell_type": "code",
   "execution_count": 9,
   "id": "9b4e437e-952e-4d0c-aa16-2d4ceb28dffa",
   "metadata": {},
   "outputs": [],
   "source": [
    "#Note: in the dictionary keys will be acting as indexes "
   ]
  },
  {
   "cell_type": "code",
   "execution_count": 10,
   "id": "455b6a7d-dbc0-4651-8f6a-049c586dc745",
   "metadata": {},
   "outputs": [],
   "source": [
    "# req: i want to know the color of the alien.."
   ]
  },
  {
   "cell_type": "code",
   "execution_count": 11,
   "id": "49eb50c6-6559-4775-9369-81445246df89",
   "metadata": {},
   "outputs": [
    {
     "ename": "KeyError",
     "evalue": "0",
     "output_type": "error",
     "traceback": [
      "\u001b[0;31m---------------------------------------------------------------------------\u001b[0m",
      "\u001b[0;31mKeyError\u001b[0m                                  Traceback (most recent call last)",
      "Cell \u001b[0;32mIn[11], line 1\u001b[0m\n\u001b[0;32m----> 1\u001b[0m \u001b[38;5;28mprint\u001b[39m(\u001b[43malien\u001b[49m\u001b[43m[\u001b[49m\u001b[38;5;241;43m0\u001b[39;49m\u001b[43m]\u001b[49m)\n",
      "\u001b[0;31mKeyError\u001b[0m: 0"
     ]
    }
   ],
   "source": [
    "print(alien[0])"
   ]
  },
  {
   "cell_type": "code",
   "execution_count": 12,
   "id": "6261fab8-1d90-4a34-9ec2-e8897a2909ba",
   "metadata": {},
   "outputs": [
    {
     "name": "stdout",
     "output_type": "stream",
     "text": [
      "green\n"
     ]
    }
   ],
   "source": [
    "print(alien['color']) #give the key and get the value"
   ]
  },
  {
   "cell_type": "code",
   "execution_count": 13,
   "id": "61a1b94e-c0f2-4c6f-baa1-a18268fef78d",
   "metadata": {},
   "outputs": [],
   "source": [
    "#req: how to modify the key value pairs in the dictionary "
   ]
  },
  {
   "cell_type": "code",
   "execution_count": 14,
   "id": "565ae97c-98f7-4f2a-8bd3-59696ae5ab3d",
   "metadata": {},
   "outputs": [],
   "source": [
    "# i want to modify the color of the alien from green to red."
   ]
  },
  {
   "cell_type": "code",
   "execution_count": 16,
   "id": "e16b2200-ad71-46fa-8cda-7333fb137014",
   "metadata": {},
   "outputs": [],
   "source": [
    "alien['color'] =  'red'"
   ]
  },
  {
   "cell_type": "code",
   "execution_count": 17,
   "id": "7247002e-417e-4d13-a2a3-a14385642c73",
   "metadata": {},
   "outputs": [
    {
     "name": "stdout",
     "output_type": "stream",
     "text": [
      "{'color': 'red', 'points': 5, 'start_position': 'level1'}\n"
     ]
    }
   ],
   "source": [
    "print(alien)"
   ]
  },
  {
   "cell_type": "code",
   "execution_count": 18,
   "id": "0a70ce75-ef98-4c60-ba0e-dafa62329d22",
   "metadata": {},
   "outputs": [],
   "source": [
    "# req: i want to create the facebook user account: "
   ]
  },
  {
   "cell_type": "code",
   "execution_count": 22,
   "id": "19a5bada-ed75-4c29-a965-1d12d8abdac5",
   "metadata": {},
   "outputs": [],
   "source": [
    "user_account = {'firstname':'code', 'lastname': 'traning', 'username':'codeNamingAcademy', 'dob':'01-01-2020','pwd':'54321'}"
   ]
  },
  {
   "cell_type": "code",
   "execution_count": 23,
   "id": "a9d3598e-a2b3-44d9-81a4-5b68cfe4d60c",
   "metadata": {},
   "outputs": [
    {
     "name": "stdout",
     "output_type": "stream",
     "text": [
      "{'firstname': 'code', 'lastname': 'traning', 'username': 'codeNamingAcademy', 'dob': '01-01-2020', 'pwd': '54321'}\n"
     ]
    }
   ],
   "source": [
    "print(user_account)"
   ]
  },
  {
   "cell_type": "code",
   "execution_count": 24,
   "id": "b0e32ae1-4ded-476a-90bb-1d9dfad8a34d",
   "metadata": {},
   "outputs": [],
   "source": [
    "# how to delete the key value pairs"
   ]
  },
  {
   "cell_type": "code",
   "execution_count": 25,
   "id": "b099ff79-8e3e-45e7-866b-a0c50b263d9d",
   "metadata": {},
   "outputs": [],
   "source": [
    "# req: i want to delete the lastname del user_account ['lastname']"
   ]
  },
  {
   "cell_type": "code",
   "execution_count": 26,
   "id": "18eba446-1c9f-4369-9028-5398cab7302a",
   "metadata": {},
   "outputs": [],
   "source": [
    "del user_account['lastname']"
   ]
  },
  {
   "cell_type": "code",
   "execution_count": 27,
   "id": "5b16381e-a38c-4b58-8809-6442b3da1c80",
   "metadata": {},
   "outputs": [
    {
     "name": "stdout",
     "output_type": "stream",
     "text": [
      "{'firstname': 'code', 'username': 'codeNamingAcademy', 'dob': '01-01-2020', 'pwd': '54321'}\n"
     ]
    }
   ],
   "source": [
    "print(user_account)"
   ]
  },
  {
   "cell_type": "code",
   "execution_count": 28,
   "id": "3ff21870-5e08-475f-8c6b-accc7071c901",
   "metadata": {},
   "outputs": [],
   "source": [
    "students = ['durga','dinesh','kavya','noor','raza','abid','joseph']"
   ]
  },
  {
   "cell_type": "code",
   "execution_count": 29,
   "id": "c654aca6-c39c-483c-967d-88594a2daa32",
   "metadata": {},
   "outputs": [
    {
     "name": "stdout",
     "output_type": "stream",
     "text": [
      "keep up the good work, Durga\n"
     ]
    }
   ],
   "source": [
    "print(f\"keep up the good work, {students[0].title()}\")"
   ]
  },
  {
   "cell_type": "code",
   "execution_count": 30,
   "id": "37235dea-5848-4785-ae1a-885fa7286170",
   "metadata": {},
   "outputs": [
    {
     "name": "stdout",
     "output_type": "stream",
     "text": [
      "keep up the good work, Dinesh\n"
     ]
    }
   ],
   "source": [
    "print(f\"keep up the good work, {students[1].title()}\")"
   ]
  },
  {
   "cell_type": "code",
   "execution_count": 31,
   "id": "dabfd419-73d3-4e3f-9f8d-d3a7ebb3bddb",
   "metadata": {},
   "outputs": [
    {
     "name": "stdout",
     "output_type": "stream",
     "text": [
      "keep up the good work, Kavya\n"
     ]
    }
   ],
   "source": [
    "print(f\"keep up the good work, {students[2].title()}\")"
   ]
  },
  {
   "cell_type": "code",
   "execution_count": 35,
   "id": "bd937036-6481-4762-84d8-ade7d9b8ecec",
   "metadata": {},
   "outputs": [],
   "source": [
    "#General syntax of for loop\n",
    "#   for tempvar in mainvar:\n",
    "#     print(tempvar)"
   ]
  },
  {
   "cell_type": "raw",
   "id": "e5467c21-5e02-4046-92d7-24bc99e280b5",
   "metadata": {},
   "source": [
    "students = ['durga','dinesh','kavya','noor','raza','abid','joseph']"
   ]
  },
  {
   "cell_type": "code",
   "execution_count": 41,
   "id": "7234c7c5-bb2a-42e0-9022-fa62c115ada3",
   "metadata": {},
   "outputs": [
    {
     "name": "stdout",
     "output_type": "stream",
     "text": [
      "['durga', 'dinesh', 'kavya', 'noor', 'raza', 'abid', 'joseph']\n"
     ]
    }
   ],
   "source": [
    "print(students)"
   ]
  },
  {
   "cell_type": "code",
   "execution_count": 42,
   "id": "9f7c5873-0ebc-4052-a947-6bc867115ec6",
   "metadata": {},
   "outputs": [
    {
     "name": "stdout",
     "output_type": "stream",
     "text": [
      "keepup the good work, Durga\n",
      "keepup the good work, Dinesh\n",
      "keepup the good work, Kavya\n",
      "keepup the good work, Noor\n",
      "keepup the good work, Raza\n",
      "keepup the good work, Abid\n",
      "keepup the good work, Joseph\n"
     ]
    }
   ],
   "source": [
    "for x in students:\n",
    "    print(f\"keepup the good work, {x.title()}\")"
   ]
  },
  {
   "cell_type": "code",
   "execution_count": 43,
   "id": "b463273e-09ed-498a-88e8-be4d664e3728",
   "metadata": {},
   "outputs": [
    {
     "name": "stdout",
     "output_type": "stream",
     "text": [
      "durga\n",
      "dinesh\n",
      "kavya\n",
      "noor\n",
      "raza\n",
      "abid\n",
      "joseph\n"
     ]
    }
   ],
   "source": [
    "for a in students:\n",
    "    print(a)"
   ]
  },
  {
   "cell_type": "code",
   "execution_count": null,
   "id": "3bceee4c-2f65-49ef-9cdc-1c957b4189d0",
   "metadata": {},
   "outputs": [],
   "source": []
  }
 ],
 "metadata": {
  "kernelspec": {
   "display_name": "anaconda-2024.02-py310",
   "language": "python",
   "name": "conda-env-anaconda-2024.02-py310-py"
  },
  "language_info": {
   "codemirror_mode": {
    "name": "ipython",
    "version": 3
   },
   "file_extension": ".py",
   "mimetype": "text/x-python",
   "name": "python",
   "nbconvert_exporter": "python",
   "pygments_lexer": "ipython3",
   "version": "3.10.14"
  }
 },
 "nbformat": 4,
 "nbformat_minor": 5
}
